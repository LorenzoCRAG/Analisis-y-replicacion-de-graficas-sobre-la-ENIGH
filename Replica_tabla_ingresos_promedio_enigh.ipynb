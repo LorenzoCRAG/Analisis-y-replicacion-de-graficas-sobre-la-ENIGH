{
 "cells": [
  {
   "cell_type": "markdown",
   "id": "03cf45ef",
   "metadata": {
    "slideshow": {
     "slide_type": "slide"
    }
   },
   "source": [
    "# Replica de la tabla de ingreso promedio trimestral monetario de la ENIGH\n",
    "1. **Distribución del ingreso.** Histograma con la distribución del ingreso (Poderación de las observaciones utilizando el factor de expansión). \n",
    "\n",
    "2. **Percentiles de ingreso.**\n",
    "\n",
    "    2.1 cálculo de los percertiles de ingreso.\n",
    "    \n",
    "    2.2 cálculo del ingreso promedio de cada percentil de ingreso. \n",
    "    \n",
    "    2.3 cálculo del índice de gini para cada percentil de ingreso.\n",
    "\n",
    "3. **Unir bases de datos.** Replica de la parte correspondiente a 2022 de la tabla de ingreso promedio trimestral monetario por grupos de edad, según sexo y año de levantamiento de la página 20 de la [presentación ejecutiva](https://www.inegi.org.mx/contenidos/programas/enigh/nc/2022/doc/enigh2022_ns_presentacion_resultados.pdf) de la ENIGH 2022.\n"
   ]
  },
  {
   "cell_type": "code",
   "execution_count": 14,
   "id": "6b24bf0b",
   "metadata": {},
   "outputs": [],
   "source": [
    "import pandas as pd\n",
    "import matplotlib.pyplot as plot\n",
    "import numpy as np"
   ]
  },
  {
   "cell_type": "code",
   "execution_count": 2,
   "id": "b7c8dc32",
   "metadata": {},
   "outputs": [],
   "source": [
    "enigh_completa = pd.read_csv('concentradohogar.csv')"
   ]
  },
  {
   "cell_type": "code",
   "execution_count": 3,
   "id": "01a717f6",
   "metadata": {},
   "outputs": [
    {
     "name": "stdout",
     "output_type": "stream",
     "text": [
      "<class 'pandas.core.frame.DataFrame'>\n",
      "RangeIndex: 90102 entries, 0 to 90101\n",
      "Data columns (total 12 columns):\n",
      " #   Column      Non-Null Count  Dtype  \n",
      "---  ------      --------------  -----  \n",
      " 0   factor      90102 non-null  int64  \n",
      " 1   tot_integ   90102 non-null  int64  \n",
      " 2   percep_ing  90102 non-null  int64  \n",
      " 3   ocupados    90102 non-null  int64  \n",
      " 4   ing_cor     90102 non-null  float64\n",
      " 5   ingtrab     90102 non-null  float64\n",
      " 6   transfer    90102 non-null  float64\n",
      " 7   estim_alqu  90102 non-null  float64\n",
      " 8   rentas      90102 non-null  float64\n",
      " 9   otros_ing   90102 non-null  float64\n",
      " 10  educa_jefe  90102 non-null  int64  \n",
      " 11  sexo_jefe   90102 non-null  int64  \n",
      "dtypes: float64(6), int64(6)\n",
      "memory usage: 8.2 MB\n"
     ]
    }
   ],
   "source": [
    "#copia de la base de datos\n",
    "enigh = enigh_completa.copy()\n",
    "#Variables que vamos a usar\n",
    "enigh = enigh[['factor', 'tot_integ', 'percep_ing', 'ocupados', \n",
    "               'ing_cor', 'ingtrab', 'transfer', 'estim_alqu', 'rentas', 'otros_ing', \n",
    "               'educa_jefe', 'sexo_jefe']]\n",
    "enigh.info()"
   ]
  },
  {
   "cell_type": "code",
   "execution_count": 4,
   "id": "1bd0bc85",
   "metadata": {},
   "outputs": [
    {
     "data": {
      "text/plain": [
       "63695.45790004601"
      ]
     },
     "execution_count": 4,
     "metadata": {},
     "output_type": "execute_result"
    }
   ],
   "source": [
    "#ingreso trimestral promedio sin factor\n",
    "enigh.ing_cor.mean()\n",
    "#Ingreso trimestral promedio con factor\n",
    "np.average(enigh.ing_cor, weights = enigh.factor)"
   ]
  },
  {
   "cell_type": "code",
   "execution_count": 5,
   "id": "f4dac6d3",
   "metadata": {},
   "outputs": [
    {
     "data": {
      "text/plain": [
       "array([  18127.934,   25158.61 ,   31589.862,   38360.64 ,   46073.685,\n",
       "         55232.544,   66895.373,   83843.876,  115839.447, 7153770.46 ])"
      ]
     },
     "execution_count": 5,
     "metadata": {},
     "output_type": "execute_result"
    }
   ],
   "source": [
    "#Sin factor de expansión\n",
    "deciles = np.linspace(0.1, 1, 10)\n",
    "np.quantile(enigh.ing_cor, deciles)"
   ]
  },
  {
   "cell_type": "code",
   "execution_count": 6,
   "id": "9d3c048c",
   "metadata": {},
   "outputs": [],
   "source": [
    "#Distribución del ingreso corriente total trimestral, por deciles de hogares\n",
    "def weighted_quantile(values, quantiles, sample_weight=None, \n",
    "                      values_sorted=False, old_style=False):\n",
    "    \"\"\" Very close to numpy.percentile, but supports weights.\n",
    "    NOTE: quantiles should be in [0, 1]!\n",
    "    :param values: numpy.array with data\n",
    "    :param quantiles: array-like with many quantiles needed\n",
    "    :param sample_weight: array-like of the same length as `array`\n",
    "    :param values_sorted: bool, if True, then will avoid sorting of\n",
    "        initial array\n",
    "    :param old_style: if True, will correct output to be consistent\n",
    "        with numpy.percentile.\n",
    "    :return: numpy.array with computed quantiles.\n",
    "    :ref: https://stackoverflow.com/questions/21844024/weighted-percentile-using-numpy\n",
    "    \"\"\"\n",
    "    values = np.array(values)\n",
    "    quantiles = np.array(quantiles)\n",
    "    if sample_weight is None:\n",
    "        sample_weight = np.ones(len(values))\n",
    "    sample_weight = np.array(sample_weight)\n",
    "    assert np.all(quantiles >= 0) and np.all(quantiles <= 1), \\\n",
    "        'quantiles should be in [0, 1]'\n",
    "\n",
    "    if not values_sorted:\n",
    "        sorter = np.argsort(values)\n",
    "        values = values[sorter]\n",
    "        sample_weight = sample_weight[sorter]\n",
    "\n",
    "    weighted_quantiles = np.cumsum(sample_weight) - 0.5 * sample_weight\n",
    "    if old_style:\n",
    "        # To be convenient with numpy.percentile\n",
    "        weighted_quantiles -= weighted_quantiles[0]\n",
    "        weighted_quantiles /= weighted_quantiles[-1]\n",
    "    else:\n",
    "        weighted_quantiles /= np.sum(sample_weight)\n",
    "    return np.interp(quantiles, weighted_quantiles, values)"
   ]
  },
  {
   "cell_type": "code",
   "execution_count": 7,
   "id": "50dc7cb4",
   "metadata": {
    "scrolled": true
   },
   "outputs": [
    {
     "data": {
      "text/plain": [
       "array([  18735.250749  ,   25882.44246288,   32517.99      ,\n",
       "         39448.01510345,   47328.80200873,   56680.31526302,\n",
       "         68755.82134112,   86372.56018915,  119982.87288889,\n",
       "       7153770.46      ])"
      ]
     },
     "execution_count": 7,
     "metadata": {},
     "output_type": "execute_result"
    }
   ],
   "source": [
    "#deciles de ingreso trimestral\n",
    "deciles_ingreso = weighted_quantile(enigh.ing_cor, deciles, sample_weight = enigh.factor)\n",
    "deciles_ingreso"
   ]
  },
  {
   "cell_type": "code",
   "execution_count": 8,
   "id": "5683f028",
   "metadata": {},
   "outputs": [],
   "source": [
    "# Para asignar a cada observación el decil correspondiente\n",
    "cond = [\n",
    "    enigh.ing_cor <= deciles_ingreso[0],\n",
    "    (deciles_ingreso[0] < enigh.ing_cor) & (enigh.ing_cor <= deciles_ingreso[1]),\n",
    "    (deciles_ingreso[1] < enigh.ing_cor) & (enigh.ing_cor <= deciles_ingreso[2]),\n",
    "    (deciles_ingreso[2] < enigh.ing_cor) & (enigh.ing_cor <= deciles_ingreso[3]),\n",
    "    (deciles_ingreso[3] < enigh.ing_cor) & (enigh.ing_cor <= deciles_ingreso[4]),\n",
    "    (deciles_ingreso[4] < enigh.ing_cor) & (enigh.ing_cor <= deciles_ingreso[5]),\n",
    "    (deciles_ingreso[5] < enigh.ing_cor) & (enigh.ing_cor <= deciles_ingreso[6]),\n",
    "    (deciles_ingreso[6] < enigh.ing_cor) & (enigh.ing_cor <= deciles_ingreso[7]),\n",
    "    (deciles_ingreso[7] < enigh.ing_cor) & (enigh.ing_cor <= deciles_ingreso[8]),\n",
    "    (deciles_ingreso[8] < enigh.ing_cor) & (enigh.ing_cor <= deciles_ingreso[9])\n",
    "]\n",
    "\n",
    "asigna = [1, 2, 3, 4, 5, 6, 7, 8, 9, 10]\n",
    "enigh['decil_ing'] = np.select(cond, asigna)"
   ]
  },
  {
   "cell_type": "code",
   "execution_count": 9,
   "id": "491a452b",
   "metadata": {},
   "outputs": [
    {
     "data": {
      "text/html": [
       "<div>\n",
       "<style scoped>\n",
       "    .dataframe tbody tr th:only-of-type {\n",
       "        vertical-align: middle;\n",
       "    }\n",
       "\n",
       "    .dataframe tbody tr th {\n",
       "        vertical-align: top;\n",
       "    }\n",
       "\n",
       "    .dataframe thead th {\n",
       "        text-align: right;\n",
       "    }\n",
       "</style>\n",
       "<table border=\"1\" class=\"dataframe\">\n",
       "  <thead>\n",
       "    <tr style=\"text-align: right;\">\n",
       "      <th></th>\n",
       "      <th>factor</th>\n",
       "      <th>tot_integ</th>\n",
       "      <th>percep_ing</th>\n",
       "      <th>ocupados</th>\n",
       "      <th>ing_cor</th>\n",
       "      <th>ingtrab</th>\n",
       "      <th>transfer</th>\n",
       "      <th>estim_alqu</th>\n",
       "      <th>rentas</th>\n",
       "      <th>otros_ing</th>\n",
       "      <th>educa_jefe</th>\n",
       "      <th>sexo_jefe</th>\n",
       "      <th>decil_ing</th>\n",
       "    </tr>\n",
       "  </thead>\n",
       "  <tbody>\n",
       "    <tr>\n",
       "      <th>0</th>\n",
       "      <td>206</td>\n",
       "      <td>3</td>\n",
       "      <td>3</td>\n",
       "      <td>1</td>\n",
       "      <td>56123.75</td>\n",
       "      <td>35706.51</td>\n",
       "      <td>8804.34</td>\n",
       "      <td>11612.90</td>\n",
       "      <td>0.00</td>\n",
       "      <td>0.0</td>\n",
       "      <td>3</td>\n",
       "      <td>2</td>\n",
       "      <td>6</td>\n",
       "    </tr>\n",
       "    <tr>\n",
       "      <th>1</th>\n",
       "      <td>206</td>\n",
       "      <td>2</td>\n",
       "      <td>2</td>\n",
       "      <td>2</td>\n",
       "      <td>108048.87</td>\n",
       "      <td>66766.28</td>\n",
       "      <td>8999.99</td>\n",
       "      <td>0.00</td>\n",
       "      <td>32282.60</td>\n",
       "      <td>0.0</td>\n",
       "      <td>8</td>\n",
       "      <td>1</td>\n",
       "      <td>9</td>\n",
       "    </tr>\n",
       "    <tr>\n",
       "      <th>2</th>\n",
       "      <td>206</td>\n",
       "      <td>3</td>\n",
       "      <td>2</td>\n",
       "      <td>2</td>\n",
       "      <td>133852.88</td>\n",
       "      <td>93081.50</td>\n",
       "      <td>0.00</td>\n",
       "      <td>29032.25</td>\n",
       "      <td>11739.13</td>\n",
       "      <td>0.0</td>\n",
       "      <td>10</td>\n",
       "      <td>1</td>\n",
       "      <td>10</td>\n",
       "    </tr>\n",
       "    <tr>\n",
       "      <th>3</th>\n",
       "      <td>167</td>\n",
       "      <td>4</td>\n",
       "      <td>2</td>\n",
       "      <td>0</td>\n",
       "      <td>105054.15</td>\n",
       "      <td>0.00</td>\n",
       "      <td>90538.03</td>\n",
       "      <td>14516.12</td>\n",
       "      <td>0.00</td>\n",
       "      <td>0.0</td>\n",
       "      <td>11</td>\n",
       "      <td>1</td>\n",
       "      <td>9</td>\n",
       "    </tr>\n",
       "    <tr>\n",
       "      <th>4</th>\n",
       "      <td>167</td>\n",
       "      <td>1</td>\n",
       "      <td>1</td>\n",
       "      <td>1</td>\n",
       "      <td>24211.95</td>\n",
       "      <td>22255.43</td>\n",
       "      <td>1956.52</td>\n",
       "      <td>0.00</td>\n",
       "      <td>0.00</td>\n",
       "      <td>0.0</td>\n",
       "      <td>8</td>\n",
       "      <td>1</td>\n",
       "      <td>2</td>\n",
       "    </tr>\n",
       "  </tbody>\n",
       "</table>\n",
       "</div>"
      ],
      "text/plain": [
       "   factor  tot_integ  percep_ing  ocupados    ing_cor   ingtrab  transfer  \\\n",
       "0     206          3           3         1   56123.75  35706.51   8804.34   \n",
       "1     206          2           2         2  108048.87  66766.28   8999.99   \n",
       "2     206          3           2         2  133852.88  93081.50      0.00   \n",
       "3     167          4           2         0  105054.15      0.00  90538.03   \n",
       "4     167          1           1         1   24211.95  22255.43   1956.52   \n",
       "\n",
       "   estim_alqu    rentas  otros_ing  educa_jefe  sexo_jefe  decil_ing  \n",
       "0    11612.90      0.00        0.0           3          2          6  \n",
       "1        0.00  32282.60        0.0           8          1          9  \n",
       "2    29032.25  11739.13        0.0          10          1         10  \n",
       "3    14516.12      0.00        0.0          11          1          9  \n",
       "4        0.00      0.00        0.0           8          1          2  "
      ]
     },
     "execution_count": 9,
     "metadata": {},
     "output_type": "execute_result"
    }
   ],
   "source": [
    "enigh.head()"
   ]
  },
  {
   "cell_type": "code",
   "execution_count": 10,
   "id": "e3a2d139",
   "metadata": {},
   "outputs": [
    {
     "data": {
      "text/html": [
       "<style type=\"text/css\">\n",
       "</style>\n",
       "<table id=\"T_c1056_\">\n",
       "  <thead>\n",
       "    <tr>\n",
       "      <th class=\"blank level0\" >&nbsp;</th>\n",
       "      <th class=\"col_heading level0 col0\" >ingreso_promedio</th>\n",
       "    </tr>\n",
       "    <tr>\n",
       "      <th class=\"index_name level0\" >decil_ing</th>\n",
       "      <th class=\"blank col0\" >&nbsp;</th>\n",
       "    </tr>\n",
       "  </thead>\n",
       "  <tbody>\n",
       "    <tr>\n",
       "      <th id=\"T_c1056_level0_row0\" class=\"row_heading level0 row0\" >1</th>\n",
       "      <td id=\"T_c1056_row0_col0\" class=\"data row0 col0\" >$13,412</td>\n",
       "    </tr>\n",
       "    <tr>\n",
       "      <th id=\"T_c1056_level0_row1\" class=\"row_heading level0 row1\" >2</th>\n",
       "      <td id=\"T_c1056_row1_col0\" class=\"data row1 col0\" >$22,422</td>\n",
       "    </tr>\n",
       "    <tr>\n",
       "      <th id=\"T_c1056_level0_row2\" class=\"row_heading level0 row2\" >3</th>\n",
       "      <td id=\"T_c1056_row2_col0\" class=\"data row2 col0\" >$29,201</td>\n",
       "    </tr>\n",
       "    <tr>\n",
       "      <th id=\"T_c1056_level0_row3\" class=\"row_heading level0 row3\" >4</th>\n",
       "      <td id=\"T_c1056_row3_col0\" class=\"data row3 col0\" >$35,948</td>\n",
       "    </tr>\n",
       "    <tr>\n",
       "      <th id=\"T_c1056_level0_row4\" class=\"row_heading level0 row4\" >5</th>\n",
       "      <td id=\"T_c1056_row4_col0\" class=\"data row4 col0\" >$43,341</td>\n",
       "    </tr>\n",
       "    <tr>\n",
       "      <th id=\"T_c1056_level0_row5\" class=\"row_heading level0 row5\" >6</th>\n",
       "      <td id=\"T_c1056_row5_col0\" class=\"data row5 col0\" >$51,924</td>\n",
       "    </tr>\n",
       "    <tr>\n",
       "      <th id=\"T_c1056_level0_row6\" class=\"row_heading level0 row6\" >7</th>\n",
       "      <td id=\"T_c1056_row6_col0\" class=\"data row6 col0\" >$62,411</td>\n",
       "    </tr>\n",
       "    <tr>\n",
       "      <th id=\"T_c1056_level0_row7\" class=\"row_heading level0 row7\" >8</th>\n",
       "      <td id=\"T_c1056_row7_col0\" class=\"data row7 col0\" >$76,736</td>\n",
       "    </tr>\n",
       "    <tr>\n",
       "      <th id=\"T_c1056_level0_row8\" class=\"row_heading level0 row8\" >9</th>\n",
       "      <td id=\"T_c1056_row8_col0\" class=\"data row8 col0\" >$100,866</td>\n",
       "    </tr>\n",
       "    <tr>\n",
       "      <th id=\"T_c1056_level0_row9\" class=\"row_heading level0 row9\" >10</th>\n",
       "      <td id=\"T_c1056_row9_col0\" class=\"data row9 col0\" >$200,697</td>\n",
       "    </tr>\n",
       "  </tbody>\n",
       "</table>\n"
      ],
      "text/plain": [
       "<pandas.io.formats.style.Styler at 0x13633ca0850>"
      ]
     },
     "execution_count": 10,
     "metadata": {},
     "output_type": "execute_result"
    }
   ],
   "source": [
    "#calcule los percertiles de ingreso\n",
    "wm = lambda x: np.average(x, weights=enigh.loc[x.index, \"factor\"])\n",
    "enigh.groupby(['decil_ing']).agg(ingreso_promedio = (\"ing_cor\", wm)).style.format(\"${:,.0f}\")"
   ]
  },
  {
   "cell_type": "code",
   "execution_count": 21,
   "id": "47aeb636",
   "metadata": {
    "scrolled": true
   },
   "outputs": [
    {
     "ename": "AttributeError",
     "evalue": "'AxesSubplot' object has no attribute 'style'",
     "output_type": "error",
     "traceback": [
      "\u001b[1;31m---------------------------------------------------------------------------\u001b[0m",
      "\u001b[1;31mAttributeError\u001b[0m                            Traceback (most recent call last)",
      "\u001b[1;32m~\\AppData\\Local\\Temp/ipykernel_7156/2670401155.py\u001b[0m in \u001b[0;36m<module>\u001b[1;34m\u001b[0m\n\u001b[0;32m      1\u001b[0m \u001b[0mplot\u001b[0m\u001b[1;33m.\u001b[0m\u001b[0mfigure\u001b[0m\u001b[1;33m(\u001b[0m\u001b[0mfigsize\u001b[0m \u001b[1;33m=\u001b[0m \u001b[1;33m(\u001b[0m\u001b[1;36m10.24\u001b[0m\u001b[1;33m,\u001b[0m \u001b[1;36m7.68\u001b[0m\u001b[1;33m)\u001b[0m\u001b[1;33m)\u001b[0m\u001b[1;33m\u001b[0m\u001b[1;33m\u001b[0m\u001b[0m\n\u001b[0;32m      2\u001b[0m \u001b[0mwm\u001b[0m \u001b[1;33m=\u001b[0m \u001b[1;32mlambda\u001b[0m \u001b[0mx\u001b[0m\u001b[1;33m:\u001b[0m \u001b[0mnp\u001b[0m\u001b[1;33m.\u001b[0m\u001b[0maverage\u001b[0m\u001b[1;33m(\u001b[0m\u001b[0mx\u001b[0m\u001b[1;33m,\u001b[0m \u001b[0mweights\u001b[0m\u001b[1;33m=\u001b[0m\u001b[0menigh\u001b[0m\u001b[1;33m.\u001b[0m\u001b[0mloc\u001b[0m\u001b[1;33m[\u001b[0m\u001b[0mx\u001b[0m\u001b[1;33m.\u001b[0m\u001b[0mindex\u001b[0m\u001b[1;33m,\u001b[0m \u001b[1;34m\"factor\"\u001b[0m\u001b[1;33m]\u001b[0m\u001b[1;33m)\u001b[0m\u001b[1;33m\u001b[0m\u001b[1;33m\u001b[0m\u001b[0m\n\u001b[1;32m----> 3\u001b[1;33m \u001b[0menigh\u001b[0m\u001b[1;33m.\u001b[0m\u001b[0mgroupby\u001b[0m\u001b[1;33m(\u001b[0m\u001b[1;33m[\u001b[0m\u001b[1;34m'decil_ing'\u001b[0m\u001b[1;33m]\u001b[0m\u001b[1;33m)\u001b[0m\u001b[1;33m.\u001b[0m\u001b[0magg\u001b[0m\u001b[1;33m(\u001b[0m\u001b[0mingreso_promedio\u001b[0m \u001b[1;33m=\u001b[0m \u001b[1;33m(\u001b[0m\u001b[1;34m\"ing_cor\"\u001b[0m\u001b[1;33m,\u001b[0m \u001b[0mwm\u001b[0m\u001b[1;33m)\u001b[0m\u001b[1;33m)\u001b[0m\u001b[1;33m.\u001b[0m\u001b[0mplot\u001b[0m\u001b[1;33m(\u001b[0m\u001b[0mkind\u001b[0m \u001b[1;33m=\u001b[0m \u001b[1;34m'hist'\u001b[0m\u001b[1;33m,\u001b[0m \u001b[0mcolor\u001b[0m \u001b[1;33m=\u001b[0m \u001b[1;34m'deepskyblue'\u001b[0m\u001b[1;33m,\u001b[0m \u001b[0mtitle\u001b[0m \u001b[1;33m=\u001b[0m \u001b[1;34m'Deciles por ingreso'\u001b[0m\u001b[1;33m,\u001b[0m \u001b[0mylabel\u001b[0m \u001b[1;33m=\u001b[0m \u001b[1;34m'Ingreso'\u001b[0m\u001b[1;33m)\u001b[0m\u001b[1;33m.\u001b[0m\u001b[0mstyle\u001b[0m\u001b[1;33m.\u001b[0m\u001b[0mformat\u001b[0m\u001b[1;33m(\u001b[0m\u001b[1;34m\"${:,.0f}\"\u001b[0m\u001b[1;33m)\u001b[0m\u001b[1;33m\u001b[0m\u001b[1;33m\u001b[0m\u001b[0m\n\u001b[0m\u001b[0;32m      4\u001b[0m \u001b[0mplot\u001b[0m\u001b[1;33m.\u001b[0m\u001b[0mshow\u001b[0m\u001b[1;33m(\u001b[0m\u001b[1;33m)\u001b[0m\u001b[1;33m\u001b[0m\u001b[1;33m\u001b[0m\u001b[0m\n",
      "\u001b[1;31mAttributeError\u001b[0m: 'AxesSubplot' object has no attribute 'style'"
     ]
    },
    {
     "data": {
      "text/plain": [
       "<Figure size 737.28x552.96 with 0 Axes>"
      ]
     },
     "metadata": {},
     "output_type": "display_data"
    },
    {
     "data": {
      "image/png": "[encoded data removed]",
      "text/plain": [
       "<Figure size 432x288 with 1 Axes>"
      ]
     },
     "metadata": {
      "needs_background": "light"
     },
     "output_type": "display_data"
    }
   ],
   "source": [
    "#Realice un histograma con la distribución del ingreso\n",
    "plot.figure(figsize = (10.24, 7.68))\n",
    "wm = lambda x: np.average(x, weights=enigh.loc[x.index, \"factor\"])\n",
    "enigh.groupby(['decil_ing']).agg(ingreso_promedio = (\"ing_cor\", wm)).plot(kind = 'hist', color = 'deepskyblue', title = 'Deciles por ingreso', ylabel = 'Ingreso').style.format(\"${:,.0f}\")\n",
    "plot.show()"
   ]
  },
  {
   "cell_type": "code",
   "execution_count": 22,
   "id": "99e0708c",
   "metadata": {},
   "outputs": [],
   "source": [
    "def gini(x, w=None):\n",
    "    # source: https://stackoverflow.com/questions/48999542/more-efficient-weighted-gini-coefficient-in-python\n",
    "    x = np.asarray(x)\n",
    "    if w is not None:\n",
    "        w = np.asarray(w)\n",
    "        sorted_indices = np.argsort(x)\n",
    "        sorted_x = x[sorted_indices]\n",
    "        sorted_w = w[sorted_indices]\n",
    "        # Force float dtype to avoid overflows\n",
    "        cumw = np.cumsum(sorted_w, dtype=float)\n",
    "        cumxw = np.cumsum(sorted_x * sorted_w, dtype=float)\n",
    "        return (np.sum(cumxw[1:] * cumw[:-1] - cumxw[:-1] * cumw[1:]) / \n",
    "                (cumxw[-1] * cumw[-1]))\n",
    "    else:\n",
    "        sorted_x = np.sort(x)\n",
    "        n = len(x)\n",
    "        cumx = np.cumsum(sorted_x, dtype=float)\n",
    "        # The above formula, with all weights equal to 1 simplifies to:\n",
    "        return (n + 1 - 2 * np.sum(cumx) / cumx[-1]) / n"
   ]
  },
  {
   "cell_type": "code",
   "execution_count": 25,
   "id": "e696c189",
   "metadata": {},
   "outputs": [
    {
     "data": {
      "text/plain": [
       "0.4126766233060339"
      ]
     },
     "execution_count": 25,
     "metadata": {},
     "output_type": "execute_result"
    }
   ],
   "source": [
    "#calcule el índice de gini para cada percentil de ingreso.\n",
    "gini(enigh.ing_cor, enigh.factor)"
   ]
  }
 ],
 "metadata": {
  "kernelspec": {
   "display_name": "Python 3 (ipykernel)",
   "language": "python",
   "name": "python3"
  },
  "language_info": {
   "codemirror_mode": {
    "name": "ipython",
    "version": 3
   },
   "file_extension": ".py",
   "mimetype": "text/x-python",
   "name": "python",
   "nbconvert_exporter": "python",
   "pygments_lexer": "ipython3",
   "version": "3.9.7"
  }
 },
 "nbformat": 4,
 "nbformat_minor": 5
}
